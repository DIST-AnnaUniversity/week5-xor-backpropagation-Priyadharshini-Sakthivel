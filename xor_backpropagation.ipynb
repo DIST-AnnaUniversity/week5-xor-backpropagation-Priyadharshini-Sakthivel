{
 "cells": [
  {
   "cell_type": "markdown",
   "id": "854edc8e",
   "metadata": {},
   "source": [
    "# XOR BACKPROPAGATION"
   ]
  },
  {
   "cell_type": "code",
   "execution_count": null,
   "id": "4ca46e26",
   "metadata": {},
   "outputs": [],
   "source": [
    "import numpy as np\n",
    "\n",
    "import pandas as pd\n",
    "data = pd.read_csv(r\"C:\\Users\\priyadharshini\\Iris.csv\")\n",
    "from sklearn.model_selection import train_test_split\n",
    "#/----------------Function for perceptron algorithm --------------/\n",
    "def perceptron(c,X,d,w,iter):\n",
    "    for n in range(1,iter):# Number of iterations  = 20\n",
    "        print(\"Iteration :\",n)\n",
    "        for i, x in enumerate(X):\n",
    "            net = np.dot(X[i],w)\n",
    "            if net > 0:\n",
    "                out = 1\n",
    "            else:\n",
    "                out = -1\n",
    "            r = c*(d[i] - out)\n",
    "            delta_w = r*x\n",
    "            w = delta_w+w\n",
    "            print (n, i, w)\n",
    "    return w\n",
    "#/---------------------Function for testing the perceptron-----------/\n",
    "\n",
    "def test_perceptron(final_out,X,w):\n",
    "    for i,x in enumerate(X):\n",
    "        net = np.dot(X[i],w)\n",
    "        if net>0:\n",
    "            out = 1\n",
    "        else:\n",
    "            out = -1\n",
    "        final_out = final_out+[out]\n",
    "    return final_out\n",
    "\n",
    "#---------------Training---------------------------------/\n",
    "X = data.iloc[:,0:4].values\n",
    "print (\"Inputs\", X)\n",
    "d1=data.iloc[:,4].values\n",
    "d=np.where(d1=='Iris-setosa',1,-1)\n",
    "print (\"Teacher values\", d)\n",
    "#Splitting the data set\n",
    "X_train, X_test, y_train, y_test = train_test_split(X, d, test_size=0.33)#computing training and testing sets of x and y\n",
    "print(X_train.shape, X_test.shape, y_train.shape, y_test.shape)\n",
    "w= ([0,0,0,0])\n",
    "print (\"initial values of weights\", w)\n",
    "c = 1\n",
    "iterations = 20\n",
    "print (\"Training\")\n",
    "print (\"----------\")\n",
    "final_weight = perceptron(c,X_train,y_train,w,iterations)#calculating final_weight\n",
    "print (\"Final sets of weights: \", final_weight)\n",
    "#-----------------Testing-------------------------------/\n",
    "final_out = []\n",
    "print (\"Testing\")\n",
    "print (\"--------\")\n",
    "final_output = test_perceptron(final_out,X_test,final_weight)#calculating final_output\n",
    "print (\"Final output: \", final_output)\n",
    "print (\"Original Teacher values\",y_test)"
   ]
  },
  {
   "cell_type": "code",
   "execution_count": null,
   "id": "cd2a1efd",
   "metadata": {},
   "outputs": [],
   "source": []
  }
 ],
 "metadata": {
  "kernelspec": {
   "display_name": "Python 3 (ipykernel)",
   "language": "python",
   "name": "python3"
  },
  "language_info": {
   "codemirror_mode": {
    "name": "ipython",
    "version": 3
   },
   "file_extension": ".py",
   "mimetype": "text/x-python",
   "name": "python",
   "nbconvert_exporter": "python",
   "pygments_lexer": "ipython3",
   "version": "3.9.12"
  }
 },
 "nbformat": 4,
 "nbformat_minor": 5
}
